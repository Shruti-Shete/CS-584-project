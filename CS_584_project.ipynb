{
 "cells": [
  {
   "cell_type": "code",
   "execution_count": null,
   "id": "22621703-cb0a-405f-b292-3a6b331cc7b9",
   "metadata": {},
   "outputs": [],
   "source": [
    "Final Project :Speech Emotion Recognition "
   ]
  },
  {
   "cell_type": "code",
   "execution_count": 47,
   "id": "27051ccb-b166-4f88-8281-fac45b54b593",
   "metadata": {},
   "outputs": [],
   "source": [
    "import os\n",
    "import pandas as pd\n",
    "import numpy as np\n",
    "import scipy.signal as signal\n",
    "import soundfile\n",
    "import glob\n",
    "import joblib\n",
    "import librosa.display\n",
    "import matplotlib.pyplot as plt\n",
    "import keras\n",
    "from keras.layers import Dense, BatchNormalization, Conv1D\n",
    "from keras.layers import Flatten\n",
    "from keras.layers import Dropout\n",
    "from keras.layers import Activation\n",
    "from keras.models import Sequential\n",
    "from sklearn.preprocessing import OneHotEncoder\n",
    "from sklearn.model_selection import train_test_split\n",
    "from sklearn.neural_network import MLPClassifier\n",
    "from sklearn.metrics import accuracy_score\n",
    "from sklearn.neighbors import KNeighborsClassifier\n",
    "from sklearn.metrics import classification_report,confusion_matrix\n"
   ]
  },
  {
   "cell_type": "code",
   "execution_count": 2,
   "id": "3c9f6df6-ca84-4ab7-b426-3db6d4bdeb69",
   "metadata": {},
   "outputs": [],
   "source": [
    "emotions={\n",
    "  '01':'neutral',\n",
    "  '02':'calm',\n",
    "  '03':'happy',\n",
    "  '04':'sad',\n",
    "  '05':'angry',\n",
    "  '06':'fearful',\n",
    "  '07':'disgust',\n",
    "  '08':'surprised'\n",
    "}\n",
    "#DataFlair - Emotions to observe\n",
    "observed_emotions=['calm', 'happy', 'fearful', 'disgust']"
   ]
  },
  {
   "cell_type": "code",
   "execution_count": 3,
   "id": "ff715135-b975-498a-8615-c990c06907c7",
   "metadata": {},
   "outputs": [],
   "source": [
    "def extraction_features(filename, mfcc, chroma, mel):\n",
    "    with soundfile.SoundFile(filename) as sound_file:\n",
    "        X = sound_file.read(dtype=\"float32\")\n",
    "        sample_rate=sound_file.samplerate\n",
    "        if chroma:\n",
    "            stft=np.abs(librosa.stft(X))\n",
    "        result=np.array([])\n",
    "        if mfcc:\n",
    "            mfccs=np.mean(librosa.feature.mfcc(y=X, sr=sample_rate, n_mfcc=40).T, axis=0)\n",
    "            result=np.hstack((result, mfccs))\n",
    "        if chroma:\n",
    "            chroma=np.mean(librosa.feature.chroma_stft(S=stft, sr=sample_rate).T,axis=0)\n",
    "            result=np.hstack((result, chroma))\n",
    "    if mel:\n",
    "                mel=np.mean(librosa.feature.melspectrogram(X, sr=sample_rate).T,axis=0)\n",
    "                result=np.hstack((result, mel))\n",
    "    return result"
   ]
  },
  {
   "cell_type": "code",
   "execution_count": 45,
   "id": "ef03ceb4-efbd-4d08-ab87-508645ffd00a",
   "metadata": {},
   "outputs": [],
   "source": [
    "def data_load():\n",
    "    x,y=[],[]\n",
    "    for files in glob.glob(\"C:/Users/DELL/Documents/Project/audio_speech_actors_01-24/Actor_*/*.wav\"):\n",
    "      try:\n",
    "        filename=os.path.basename(files)\n",
    "        emotion=emotions[filename.split(\"-\")[2]]\n",
    "        feature = extraction_feature(files, mfcc=True, chroma=True, mel=True)\n",
    "        x.append(feature)\n",
    "        y.append(emotion)\n",
    "      \n",
    "      \n",
    "      except:\n",
    "        continue\n",
    "\n",
    "    return np.array(x),y"
   ]
  },
  {
   "cell_type": "code",
   "execution_count": 5,
   "id": "132f4eb1-4bee-4c9f-a4ca-752fb361a615",
   "metadata": {},
   "outputs": [],
   "source": [
    "X = joblib.load(\"C:/Users/DELL/Documents/Project/X.joblib\")\n",
    "y = joblib.load(\"C:/Users/DELL/Documents/Project/y.joblib\")\n"
   ]
  },
  {
   "cell_type": "code",
   "execution_count": 9,
   "id": "1b01465e-2ed8-40b9-b534-fea7cb9276bb",
   "metadata": {},
   "outputs": [
    {
     "name": "stdout",
     "output_type": "stream",
     "text": [
      "Epoch 1/100\n"
     ]
    },
    {
     "name": "stderr",
     "output_type": "stream",
     "text": [
      "C:\\Users\\DELL\\anaconda3\\lib\\site-packages\\keras\\optimizers\\optimizer_v2\\adam.py:114: UserWarning: The `lr` argument is deprecated, use `learning_rate` instead.\n",
      "  super().__init__(name, **kwargs)\n"
     ]
    },
    {
     "name": "stdout",
     "output_type": "stream",
     "text": [
      "15/15 [==============================] - 2s 44ms/step - loss: 2.3177 - accuracy: 0.1517 - val_loss: 2.1236 - val_accuracy: 0.1586\n",
      "Epoch 2/100\n",
      "15/15 [==============================] - 0s 9ms/step - loss: 2.0689 - accuracy: 0.2569 - val_loss: 2.0299 - val_accuracy: 0.1586\n",
      "Epoch 3/100\n",
      "15/15 [==============================] - 0s 11ms/step - loss: 1.9943 - accuracy: 0.2517 - val_loss: 1.9868 - val_accuracy: 0.2138\n",
      "Epoch 4/100\n",
      "15/15 [==============================] - 0s 10ms/step - loss: 1.9360 - accuracy: 0.2810 - val_loss: 1.9454 - val_accuracy: 0.2207\n",
      "Epoch 5/100\n",
      "15/15 [==============================] - 0s 11ms/step - loss: 1.8952 - accuracy: 0.2707 - val_loss: 1.7991 - val_accuracy: 0.3034\n",
      "Epoch 6/100\n",
      "15/15 [==============================] - 0s 10ms/step - loss: 1.7816 - accuracy: 0.3224 - val_loss: 1.6914 - val_accuracy: 0.2966\n",
      "Epoch 7/100\n",
      "15/15 [==============================] - 0s 11ms/step - loss: 1.6837 - accuracy: 0.3517 - val_loss: 1.6778 - val_accuracy: 0.3586\n",
      "Epoch 8/100\n",
      "15/15 [==============================] - 0s 10ms/step - loss: 1.7238 - accuracy: 0.3724 - val_loss: 1.7352 - val_accuracy: 0.2966\n",
      "Epoch 9/100\n",
      "15/15 [==============================] - 0s 10ms/step - loss: 1.6498 - accuracy: 0.3621 - val_loss: 1.5851 - val_accuracy: 0.3517\n",
      "Epoch 10/100\n",
      "15/15 [==============================] - 0s 11ms/step - loss: 1.5395 - accuracy: 0.4259 - val_loss: 1.7698 - val_accuracy: 0.3586\n",
      "Epoch 11/100\n",
      "15/15 [==============================] - 0s 11ms/step - loss: 1.5060 - accuracy: 0.4362 - val_loss: 1.5394 - val_accuracy: 0.4138\n",
      "Epoch 12/100\n",
      "15/15 [==============================] - 0s 11ms/step - loss: 1.3680 - accuracy: 0.4569 - val_loss: 1.4141 - val_accuracy: 0.5034\n",
      "Epoch 13/100\n",
      "15/15 [==============================] - 0s 10ms/step - loss: 1.3444 - accuracy: 0.5138 - val_loss: 1.6103 - val_accuracy: 0.3931\n",
      "Epoch 14/100\n",
      "15/15 [==============================] - 0s 8ms/step - loss: 1.3437 - accuracy: 0.5069 - val_loss: 1.4157 - val_accuracy: 0.4483\n",
      "Epoch 15/100\n",
      "15/15 [==============================] - 0s 10ms/step - loss: 1.2353 - accuracy: 0.5466 - val_loss: 1.5581 - val_accuracy: 0.4621\n",
      "Epoch 16/100\n",
      "15/15 [==============================] - 0s 10ms/step - loss: 1.2400 - accuracy: 0.5603 - val_loss: 1.4386 - val_accuracy: 0.5172\n",
      "Epoch 17/100\n",
      "15/15 [==============================] - 0s 9ms/step - loss: 1.1501 - accuracy: 0.5621 - val_loss: 1.2239 - val_accuracy: 0.5517\n",
      "Epoch 18/100\n",
      "15/15 [==============================] - 0s 8ms/step - loss: 1.0884 - accuracy: 0.6017 - val_loss: 1.2893 - val_accuracy: 0.4966\n",
      "Epoch 19/100\n",
      "15/15 [==============================] - 0s 8ms/step - loss: 1.0901 - accuracy: 0.6017 - val_loss: 1.2244 - val_accuracy: 0.5586\n",
      "Epoch 20/100\n",
      "15/15 [==============================] - 0s 10ms/step - loss: 0.9673 - accuracy: 0.6397 - val_loss: 1.3627 - val_accuracy: 0.5448\n",
      "Epoch 21/100\n",
      "15/15 [==============================] - 0s 10ms/step - loss: 0.9617 - accuracy: 0.6500 - val_loss: 1.3316 - val_accuracy: 0.5310\n",
      "Epoch 22/100\n",
      "15/15 [==============================] - 0s 10ms/step - loss: 0.9655 - accuracy: 0.6569 - val_loss: 1.2903 - val_accuracy: 0.5172\n",
      "Epoch 23/100\n",
      "15/15 [==============================] - 0s 10ms/step - loss: 0.9347 - accuracy: 0.6621 - val_loss: 1.2415 - val_accuracy: 0.5517\n",
      "Epoch 24/100\n",
      "15/15 [==============================] - 0s 11ms/step - loss: 0.9879 - accuracy: 0.6362 - val_loss: 1.2813 - val_accuracy: 0.6138\n",
      "Epoch 25/100\n",
      "15/15 [==============================] - 0s 10ms/step - loss: 0.9305 - accuracy: 0.6690 - val_loss: 1.2475 - val_accuracy: 0.5379\n",
      "Epoch 26/100\n",
      "15/15 [==============================] - 0s 10ms/step - loss: 0.9190 - accuracy: 0.6569 - val_loss: 1.5665 - val_accuracy: 0.4966\n",
      "Epoch 27/100\n",
      "15/15 [==============================] - 0s 10ms/step - loss: 0.9307 - accuracy: 0.6603 - val_loss: 1.1238 - val_accuracy: 0.5931\n",
      "Epoch 28/100\n",
      "15/15 [==============================] - 0s 10ms/step - loss: 0.7517 - accuracy: 0.7310 - val_loss: 1.2063 - val_accuracy: 0.5931\n",
      "Epoch 29/100\n",
      "15/15 [==============================] - 0s 10ms/step - loss: 0.7743 - accuracy: 0.7190 - val_loss: 1.2026 - val_accuracy: 0.5862\n",
      "Epoch 30/100\n",
      "15/15 [==============================] - 0s 11ms/step - loss: 0.7096 - accuracy: 0.7448 - val_loss: 1.1081 - val_accuracy: 0.6345\n",
      "Epoch 31/100\n",
      "15/15 [==============================] - 0s 10ms/step - loss: 0.7601 - accuracy: 0.7207 - val_loss: 1.4012 - val_accuracy: 0.5103\n",
      "Epoch 32/100\n",
      "15/15 [==============================] - 0s 11ms/step - loss: 0.7645 - accuracy: 0.6948 - val_loss: 1.1449 - val_accuracy: 0.6207\n",
      "Epoch 33/100\n",
      "15/15 [==============================] - 0s 12ms/step - loss: 0.6534 - accuracy: 0.7603 - val_loss: 1.1279 - val_accuracy: 0.5724\n",
      "Epoch 34/100\n",
      "15/15 [==============================] - 0s 11ms/step - loss: 0.6373 - accuracy: 0.7466 - val_loss: 1.1757 - val_accuracy: 0.6000\n",
      "Epoch 35/100\n",
      "15/15 [==============================] - 0s 11ms/step - loss: 0.6696 - accuracy: 0.7586 - val_loss: 1.3251 - val_accuracy: 0.5586\n",
      "Epoch 36/100\n",
      "15/15 [==============================] - 0s 9ms/step - loss: 0.6629 - accuracy: 0.7603 - val_loss: 1.0977 - val_accuracy: 0.6000\n",
      "Epoch 37/100\n",
      "15/15 [==============================] - 0s 10ms/step - loss: 0.5822 - accuracy: 0.7914 - val_loss: 1.1936 - val_accuracy: 0.5931\n",
      "Epoch 38/100\n",
      "15/15 [==============================] - 0s 8ms/step - loss: 0.6131 - accuracy: 0.7724 - val_loss: 1.0669 - val_accuracy: 0.6552\n",
      "Epoch 39/100\n",
      "15/15 [==============================] - 0s 9ms/step - loss: 0.5594 - accuracy: 0.7931 - val_loss: 1.1195 - val_accuracy: 0.6069\n",
      "Epoch 40/100\n",
      "15/15 [==============================] - 0s 10ms/step - loss: 0.6341 - accuracy: 0.7776 - val_loss: 1.0900 - val_accuracy: 0.6069\n",
      "Epoch 41/100\n",
      "15/15 [==============================] - 0s 8ms/step - loss: 0.6168 - accuracy: 0.7897 - val_loss: 0.9703 - val_accuracy: 0.6690\n",
      "Epoch 42/100\n",
      "15/15 [==============================] - 0s 6ms/step - loss: 0.6404 - accuracy: 0.7483 - val_loss: 1.2561 - val_accuracy: 0.5517\n",
      "Epoch 43/100\n",
      "15/15 [==============================] - 0s 6ms/step - loss: 0.6351 - accuracy: 0.7552 - val_loss: 1.2136 - val_accuracy: 0.5931\n",
      "Epoch 44/100\n",
      "15/15 [==============================] - 0s 8ms/step - loss: 0.5420 - accuracy: 0.8000 - val_loss: 1.0797 - val_accuracy: 0.6414\n",
      "Epoch 45/100\n",
      "15/15 [==============================] - 0s 7ms/step - loss: 0.5072 - accuracy: 0.8172 - val_loss: 1.0677 - val_accuracy: 0.6207\n",
      "Epoch 46/100\n",
      "15/15 [==============================] - 0s 7ms/step - loss: 0.4785 - accuracy: 0.8241 - val_loss: 1.1406 - val_accuracy: 0.6207\n",
      "Epoch 47/100\n",
      "15/15 [==============================] - 0s 5ms/step - loss: 0.4547 - accuracy: 0.8328 - val_loss: 1.0877 - val_accuracy: 0.6345\n",
      "Epoch 48/100\n",
      "15/15 [==============================] - 0s 6ms/step - loss: 0.4822 - accuracy: 0.8207 - val_loss: 1.0756 - val_accuracy: 0.6414\n",
      "Epoch 49/100\n",
      "15/15 [==============================] - 0s 6ms/step - loss: 0.4394 - accuracy: 0.8379 - val_loss: 1.1049 - val_accuracy: 0.6483\n",
      "Epoch 50/100\n",
      "15/15 [==============================] - 0s 6ms/step - loss: 0.4566 - accuracy: 0.8310 - val_loss: 1.2327 - val_accuracy: 0.6414\n",
      "Epoch 51/100\n",
      "15/15 [==============================] - 0s 6ms/step - loss: 0.4498 - accuracy: 0.8276 - val_loss: 1.1209 - val_accuracy: 0.6483\n",
      "Epoch 52/100\n",
      "15/15 [==============================] - 0s 6ms/step - loss: 0.5072 - accuracy: 0.8121 - val_loss: 1.1213 - val_accuracy: 0.6276\n",
      "Epoch 53/100\n",
      "15/15 [==============================] - 0s 6ms/step - loss: 0.4800 - accuracy: 0.8328 - val_loss: 1.2792 - val_accuracy: 0.6552\n",
      "Epoch 54/100\n",
      "15/15 [==============================] - 0s 6ms/step - loss: 0.5367 - accuracy: 0.8034 - val_loss: 1.0788 - val_accuracy: 0.5793\n",
      "Epoch 55/100\n",
      "15/15 [==============================] - 0s 7ms/step - loss: 0.4897 - accuracy: 0.8224 - val_loss: 1.2251 - val_accuracy: 0.6000\n",
      "Epoch 56/100\n",
      "15/15 [==============================] - 0s 6ms/step - loss: 0.4547 - accuracy: 0.8345 - val_loss: 1.2262 - val_accuracy: 0.6552\n",
      "Epoch 57/100\n",
      "15/15 [==============================] - 0s 6ms/step - loss: 0.4732 - accuracy: 0.8241 - val_loss: 1.1506 - val_accuracy: 0.6345\n",
      "Epoch 58/100\n",
      "15/15 [==============================] - 0s 6ms/step - loss: 0.4177 - accuracy: 0.8517 - val_loss: 1.1589 - val_accuracy: 0.6345\n",
      "Epoch 59/100\n",
      "15/15 [==============================] - 0s 6ms/step - loss: 0.3619 - accuracy: 0.8759 - val_loss: 1.0889 - val_accuracy: 0.6621\n",
      "Epoch 60/100\n",
      "15/15 [==============================] - 0s 6ms/step - loss: 0.3694 - accuracy: 0.8603 - val_loss: 1.2234 - val_accuracy: 0.6414\n",
      "Epoch 61/100\n",
      "15/15 [==============================] - 0s 6ms/step - loss: 0.3842 - accuracy: 0.8517 - val_loss: 1.2074 - val_accuracy: 0.6483\n",
      "Epoch 62/100\n",
      "15/15 [==============================] - 0s 6ms/step - loss: 0.3263 - accuracy: 0.8948 - val_loss: 1.1891 - val_accuracy: 0.6483\n",
      "Epoch 63/100\n",
      "15/15 [==============================] - 0s 7ms/step - loss: 0.3250 - accuracy: 0.8897 - val_loss: 1.2069 - val_accuracy: 0.6276\n",
      "Epoch 64/100\n",
      "15/15 [==============================] - 0s 7ms/step - loss: 0.3063 - accuracy: 0.8966 - val_loss: 1.1508 - val_accuracy: 0.6345\n",
      "Epoch 65/100\n",
      "15/15 [==============================] - 0s 6ms/step - loss: 0.3322 - accuracy: 0.8793 - val_loss: 1.2737 - val_accuracy: 0.6414\n",
      "Epoch 66/100\n",
      "15/15 [==============================] - 0s 5ms/step - loss: 0.3424 - accuracy: 0.8862 - val_loss: 1.4858 - val_accuracy: 0.6276\n",
      "Epoch 67/100\n",
      "15/15 [==============================] - 0s 7ms/step - loss: 0.3554 - accuracy: 0.8707 - val_loss: 1.3615 - val_accuracy: 0.6483\n",
      "Epoch 68/100\n",
      "15/15 [==============================] - 0s 7ms/step - loss: 0.3487 - accuracy: 0.8707 - val_loss: 1.3057 - val_accuracy: 0.6000\n",
      "Epoch 69/100\n",
      "15/15 [==============================] - 0s 8ms/step - loss: 0.3189 - accuracy: 0.8793 - val_loss: 1.2967 - val_accuracy: 0.6414\n",
      "Epoch 70/100\n",
      "15/15 [==============================] - 0s 8ms/step - loss: 0.2856 - accuracy: 0.9069 - val_loss: 1.2906 - val_accuracy: 0.6345\n",
      "Epoch 71/100\n",
      "15/15 [==============================] - 0s 9ms/step - loss: 0.3478 - accuracy: 0.8690 - val_loss: 1.2833 - val_accuracy: 0.6621\n",
      "Epoch 72/100\n",
      "15/15 [==============================] - 0s 10ms/step - loss: 0.2932 - accuracy: 0.9034 - val_loss: 1.2426 - val_accuracy: 0.6552\n",
      "Epoch 73/100\n",
      "15/15 [==============================] - 0s 10ms/step - loss: 0.3232 - accuracy: 0.8828 - val_loss: 1.2888 - val_accuracy: 0.6552\n",
      "Epoch 74/100\n",
      "15/15 [==============================] - 0s 13ms/step - loss: 0.3086 - accuracy: 0.8845 - val_loss: 1.2983 - val_accuracy: 0.6138\n",
      "Epoch 75/100\n",
      "15/15 [==============================] - 0s 8ms/step - loss: 0.2790 - accuracy: 0.9052 - val_loss: 1.4011 - val_accuracy: 0.6345\n",
      "Epoch 76/100\n",
      "15/15 [==============================] - 0s 10ms/step - loss: 0.3909 - accuracy: 0.8586 - val_loss: 1.4713 - val_accuracy: 0.6207\n",
      "Epoch 77/100\n",
      "15/15 [==============================] - 0s 8ms/step - loss: 0.3931 - accuracy: 0.8552 - val_loss: 1.2138 - val_accuracy: 0.6000\n",
      "Epoch 78/100\n",
      "15/15 [==============================] - 0s 10ms/step - loss: 0.3287 - accuracy: 0.8793 - val_loss: 1.3694 - val_accuracy: 0.6138\n",
      "Epoch 79/100\n",
      "15/15 [==============================] - 0s 10ms/step - loss: 0.2983 - accuracy: 0.9017 - val_loss: 1.2435 - val_accuracy: 0.6138\n",
      "Epoch 80/100\n",
      "15/15 [==============================] - 0s 8ms/step - loss: 0.2879 - accuracy: 0.9000 - val_loss: 1.3331 - val_accuracy: 0.6345\n",
      "Epoch 81/100\n",
      "15/15 [==============================] - 0s 10ms/step - loss: 0.2755 - accuracy: 0.9069 - val_loss: 1.3188 - val_accuracy: 0.6345\n",
      "Epoch 82/100\n",
      "15/15 [==============================] - 0s 9ms/step - loss: 0.2529 - accuracy: 0.9190 - val_loss: 1.2751 - val_accuracy: 0.6414\n",
      "Epoch 83/100\n",
      "15/15 [==============================] - 0s 8ms/step - loss: 0.2725 - accuracy: 0.9052 - val_loss: 1.3627 - val_accuracy: 0.6207\n",
      "Epoch 84/100\n",
      "15/15 [==============================] - 0s 9ms/step - loss: 0.2171 - accuracy: 0.9276 - val_loss: 1.4114 - val_accuracy: 0.6621\n",
      "Epoch 85/100\n",
      "15/15 [==============================] - 0s 7ms/step - loss: 0.1884 - accuracy: 0.9483 - val_loss: 1.3737 - val_accuracy: 0.6414\n",
      "Epoch 86/100\n",
      "15/15 [==============================] - 0s 9ms/step - loss: 0.2065 - accuracy: 0.9276 - val_loss: 1.2666 - val_accuracy: 0.6414\n",
      "Epoch 87/100\n",
      "15/15 [==============================] - 0s 12ms/step - loss: 0.1968 - accuracy: 0.9328 - val_loss: 1.4665 - val_accuracy: 0.6552\n",
      "Epoch 88/100\n",
      "15/15 [==============================] - 0s 8ms/step - loss: 0.1952 - accuracy: 0.9431 - val_loss: 1.2918 - val_accuracy: 0.6552\n",
      "Epoch 89/100\n",
      "15/15 [==============================] - 0s 7ms/step - loss: 0.1714 - accuracy: 0.9483 - val_loss: 1.4413 - val_accuracy: 0.6276\n",
      "Epoch 90/100\n",
      "15/15 [==============================] - 0s 7ms/step - loss: 0.1571 - accuracy: 0.9534 - val_loss: 1.4097 - val_accuracy: 0.6414\n",
      "Epoch 91/100\n",
      "15/15 [==============================] - 0s 8ms/step - loss: 0.1685 - accuracy: 0.9448 - val_loss: 1.4347 - val_accuracy: 0.6138\n",
      "Epoch 92/100\n",
      "15/15 [==============================] - 0s 7ms/step - loss: 0.1878 - accuracy: 0.9397 - val_loss: 1.4457 - val_accuracy: 0.6345\n",
      "Epoch 93/100\n",
      "15/15 [==============================] - 0s 7ms/step - loss: 0.1650 - accuracy: 0.9534 - val_loss: 1.3220 - val_accuracy: 0.6483\n",
      "Epoch 94/100\n",
      "15/15 [==============================] - 0s 8ms/step - loss: 0.1767 - accuracy: 0.9483 - val_loss: 1.5209 - val_accuracy: 0.6414\n",
      "Epoch 95/100\n",
      "15/15 [==============================] - 0s 9ms/step - loss: 0.1832 - accuracy: 0.9483 - val_loss: 1.5498 - val_accuracy: 0.6069\n",
      "Epoch 96/100\n",
      "15/15 [==============================] - 0s 7ms/step - loss: 0.1481 - accuracy: 0.9603 - val_loss: 1.4625 - val_accuracy: 0.6276\n",
      "Epoch 97/100\n",
      "15/15 [==============================] - 0s 7ms/step - loss: 0.1658 - accuracy: 0.9448 - val_loss: 1.5717 - val_accuracy: 0.5931\n",
      "Epoch 98/100\n",
      "15/15 [==============================] - 0s 7ms/step - loss: 0.1785 - accuracy: 0.9483 - val_loss: 1.4672 - val_accuracy: 0.6552\n",
      "Epoch 99/100\n",
      "15/15 [==============================] - 0s 9ms/step - loss: 0.1671 - accuracy: 0.9466 - val_loss: 1.4254 - val_accuracy: 0.6414\n",
      "Epoch 100/100\n",
      "15/15 [==============================] - 0s 8ms/step - loss: 0.3036 - accuracy: 0.8845 - val_loss: 1.6605 - val_accuracy: 0.6345\n"
     ]
    },
    {
     "data": {
      "image/png": "[encoded data removed]",
      "text/plain": [
       "<Figure size 432x288 with 1 Axes>"
      ]
     },
     "metadata": {
      "needs_background": "light"
     },
     "output_type": "display_data"
    },
    {
     "name": "stdout",
     "output_type": "stream",
     "text": [
      "10/10 [==============================] - 0s 4ms/step - loss: 2.0126 - accuracy: 0.5288\n",
      "Loss:  2.0125672817230225\n",
      "Accuracy:  0.5288461446762085\n"
     ]
    }
   ],
   "source": [
    "def neuralnetwork_model(X,y):\n",
    "\n",
    "    y = np.array(pd.get_dummies(y))\n",
    "\n",
    "    x_train,x_test,y_train,y_test = train_test_split(X,y,test_size = 0.30,random_state=42)\n",
    "    x_val_train,x_val_test,y_val_train,y_val_test = train_test_split(x_train,y_train,test_size = 0.20)\n",
    "\n",
    "    model=Sequential()\n",
    "  ### layer 1\n",
    "    model.add(Dense(200,input_shape=(180,)))\n",
    "    model.add(Activation('tanh'))\n",
    " \n",
    "  ### layer 2\n",
    "    model.add(Dense(400))\n",
    "    model.add(Activation('tanh'))\n",
    " \n",
    "  ### layer 3\n",
    "    model.add(Dense(200))\n",
    "    model.add(Activation('tanh'))\n",
    " \n",
    "  ### Final layer\n",
    "    model.add(Dense(8))\n",
    "    model.add(Activation('softmax'))\n",
    "\n",
    "    model.compile(loss = 'categorical_crossentropy', optimizer = keras.optimizers.Adam(lr=0.001), metrics = ['accuracy'])\n",
    "    history = model.fit(x_val_train, y_val_train, batch_size = 40, epochs = 100, validation_data=(x_val_test, y_val_test))\n",
    "\n",
    "\n",
    "  # Accuracy plotting\n",
    "    plt.plot(history.history['accuracy'])\n",
    "    plt.plot(history.history['val_accuracy'])\n",
    "    plt.title('Model Accuracy')\n",
    "    plt.ylabel('Accuracy')\n",
    "    plt.xlabel('Epoch')\n",
    "    plt.legend(['Train', 'Validation'], loc='best')\n",
    "    plt.savefig('Model Accuracy.png')\n",
    "    plt.show()\n",
    "\n",
    "\n",
    "    score = model.evaluate(x_test, y_test)\n",
    "    \n",
    "    print('Loss: ', score[0])\n",
    "    print('Accuracy: ', score[1])\n",
    "\n",
    "neuralnetwork_model(X,y)\n"
   ]
  },
  {
   "cell_type": "code",
   "execution_count": 7,
   "id": "be132503-932b-4163-99b2-41bf88ec1315",
   "metadata": {},
   "outputs": [
    {
     "name": "stdout",
     "output_type": "stream",
     "text": [
      "Classification Report Using MLP CLassifier:\n",
      "               precision    recall  f1-score   support\n",
      "\n",
      "       angry       0.89      0.76      0.82        55\n",
      "        calm       0.79      0.82      0.80        45\n",
      "     disgust       0.68      0.90      0.78        21\n",
      "     fearful       0.69      0.71      0.70        41\n",
      "       happy       0.83      0.76      0.80        51\n",
      "     neutral       0.53      0.70      0.60        27\n",
      "         sad       0.64      0.51      0.57        45\n",
      "   surprised       0.66      0.70      0.68        27\n",
      "\n",
      "    accuracy                           0.73       312\n",
      "   macro avg       0.71      0.74      0.72       312\n",
      "weighted avg       0.74      0.73      0.73       312\n",
      "\n",
      "Confusion Matrix:\n",
      " [[42  1  2  3  2  4  0  1]\n",
      " [ 0 37  0  0  2  5  1  0]\n",
      " [ 1  1 19  0  0  0  0  0]\n",
      " [ 1  0  1 29  1  0  8  1]\n",
      " [ 3  4  1  1 39  1  1  1]\n",
      " [ 0  2  0  0  1 19  2  3]\n",
      " [ 0  1  3  7  1  6 23  4]\n",
      " [ 0  1  2  2  1  1  1 19]]\n",
      "\n",
      "Testing Accuracy for MLP Classifier: 72.76%\n"
     ]
    }
   ],
   "source": [
    "def MultiLayerPerceptron(X,y):\n",
    "\n",
    "    x_train,x_test,y_train,y_test = train_test_split(X,y,test_size = 0.30)\n",
    "\n",
    "    model=MLPClassifier(batch_size=250, hidden_layer_sizes=(200,), activation='tanh',solver=\"adam\",learning_rate='adaptive', max_iter=850,alpha=0.01)\n",
    "    model.fit(x_train,y_train)\n",
    "\n",
    "    y_prediction=model.predict(x_test)\n",
    "    accuracy=accuracy_score(y_true=y_test, y_pred=y_prediction)\n",
    "    print(\"Classification Report Using MLP CLassifier:\\n\",classification_report(y_test,y_prediction))\n",
    "    print(\"Confusion Matrix:\\n\",confusion_matrix(y_test,y_prediction))\n",
    "    print(\"\\nTesting Accuracy for MLP Classifier: {:.2f}%\".format(accuracy*100))\n",
    "\n",
    "\n",
    "MultiLayerPerceptron(X,y)"
   ]
  },
  {
   "cell_type": "code",
   "execution_count": 46,
   "id": "77da46ca-d630-4091-bcc1-b73410b31a5f",
   "metadata": {},
   "outputs": [],
   "source": [
    "def extracting_MFCC(filename):\n",
    "\n",
    "    y, sr = librosa.load(filename)\n",
    "    value = np.mean(librosa.feature.mfcc(y=y, sr=sr, n_mfcc=40).T,axis=0)\n",
    "    \n",
    "    return value"
   ]
  },
  {
   "cell_type": "code",
   "execution_count": 11,
   "id": "9981a844-2a51-4fbc-ae55-4b3e685adb89",
   "metadata": {},
   "outputs": [],
   "source": [
    "##### load radvess speech data #####\n",
    "rs_labels = [] \n",
    "rs_data = [] \n",
    "for dirname, _, filenames in os.walk('C:/Users/DELL/Documents/Project/audio_speech_actors_01-24/'):\n",
    "    for file in filenames:\n",
    "        rs_labels.append(int(file[7:8]) - 1) \n",
    "        filename = os.path.join(dirname, file)\n",
    "        rs_data.append(extracting_MFCC(filename))"
   ]
  },
  {
   "cell_type": "code",
   "execution_count": 12,
   "id": "af82b8b8-4a2d-4c5a-9494-519cc476ba32",
   "metadata": {},
   "outputs": [
    {
     "data": {
      "text/plain": [
       "(1440, 8)"
      ]
     },
     "execution_count": 12,
     "metadata": {},
     "output_type": "execute_result"
    }
   ],
   "source": [
    "from tensorflow.keras.utils import to_categorical\n",
    "from keras.models import Sequential\n",
    "from keras.layers import *\n",
    "#from keras.optimizer_v1 import rmsprop\n",
    "\n",
    "#### convert data and label to array\n",
    "rs_data_array = np.asarray(rs_data) # convert the input to an array\n",
    "rs_label_array = np.array(rs_labels)\n",
    "rs_label_array.shape # get tuple of array dimensions\n",
    "\n",
    "#### make categorical labels\n",
    "labels_category = to_categorical(rs_label_array) # converts a class vector (integers) to binary class matrix\n",
    "labels_category.shape"
   ]
  },
  {
   "cell_type": "code",
   "execution_count": 13,
   "id": "6ebff256-af1b-472e-b51f-1760e0da13bf",
   "metadata": {},
   "outputs": [],
   "source": [
    "x_train,x_test,y_train,y_test= train_test_split(np.array(rs_data_array),labels_category, test_size=0.20, random_state=9)"
   ]
  },
  {
   "cell_type": "code",
   "execution_count": 14,
   "id": "921166be-9b31-4fa5-b5ef-807b161450d5",
   "metadata": {},
   "outputs": [],
   "source": [
    "# Split the training, validating, and testing sets\n",
    "n_samples = rs_data_array.shape[0]\n",
    "train_samples = int(n_samples * 0.8)\n",
    "val_samples = int(n_samples * 0.1)\n",
    "test_samples = int(n_samples * 0.1)"
   ]
  },
  {
   "cell_type": "code",
   "execution_count": 15,
   "id": "7b6c276f-8fc1-4e5e-8c74-01e7d1d0374c",
   "metadata": {},
   "outputs": [],
   "source": [
    "# Define the LSTM model\n",
    "def model_LSTM():\n",
    "    model = Sequential()\n",
    "    model.add(LSTM(128, return_sequences=False, input_shape=(40, 1)))\n",
    "    model.add(Dense(64))\n",
    "    model.add(Dropout(0.4))\n",
    "    model.add(Activation('relu'))\n",
    "    model.add(Dense(32))\n",
    "    model.add(Dropout(0.4))\n",
    "    model.add(Activation('relu'))\n",
    "    model.add(Dense(8))\n",
    "    model.add(Activation('softmax'))\n",
    "    \n",
    "    # Configures the model for training\n",
    "    model.compile(loss='categorical_crossentropy', optimizer='Adam', metrics=['accuracy'])\n",
    "    return model"
   ]
  },
  {
   "cell_type": "code",
   "execution_count": 16,
   "id": "cd90a831-65ee-4b3b-85e7-a0ffb98dcf65",
   "metadata": {},
   "outputs": [],
   "source": [
    "w = np.expand_dims(rs_data_array[:train_samples],-1)"
   ]
  },
  {
   "cell_type": "code",
   "execution_count": 21,
   "id": "44506609-4daa-430a-acef-1527c9640e36",
   "metadata": {},
   "outputs": [
    {
     "data": {
      "text/plain": [
       "(1152, 40, 1)"
      ]
     },
     "execution_count": 21,
     "metadata": {},
     "output_type": "execute_result"
    }
   ],
   "source": [
    "w.shape"
   ]
  },
  {
   "cell_type": "code",
   "execution_count": 20,
   "id": "2f4ddfb2-d972-4cb3-be40-981844645357",
   "metadata": {},
   "outputs": [
    {
     "name": "stdout",
     "output_type": "stream",
     "text": [
      "Epoch 1/100\n",
      "36/36 [==============================] - 4s 48ms/step - loss: 2.0729 - accuracy: 0.1389 - val_loss: 2.0861 - val_accuracy: 0.1250\n",
      "Epoch 2/100\n",
      "36/36 [==============================] - 1s 25ms/step - loss: 2.0466 - accuracy: 0.1788 - val_loss: 2.0443 - val_accuracy: 0.1458\n",
      "Epoch 3/100\n",
      "36/36 [==============================] - 1s 27ms/step - loss: 2.0260 - accuracy: 0.1901 - val_loss: 2.0119 - val_accuracy: 0.1528\n",
      "Epoch 4/100\n",
      "36/36 [==============================] - 1s 27ms/step - loss: 2.0102 - accuracy: 0.2075 - val_loss: 2.0212 - val_accuracy: 0.1875\n",
      "Epoch 5/100\n",
      "36/36 [==============================] - 1s 30ms/step - loss: 1.9833 - accuracy: 0.2283 - val_loss: 1.9842 - val_accuracy: 0.1875\n",
      "Epoch 6/100\n",
      "36/36 [==============================] - 1s 25ms/step - loss: 1.9520 - accuracy: 0.2483 - val_loss: 1.9719 - val_accuracy: 0.1944\n",
      "Epoch 7/100\n",
      "36/36 [==============================] - 1s 26ms/step - loss: 1.9404 - accuracy: 0.2457 - val_loss: 1.9685 - val_accuracy: 0.1806\n",
      "Epoch 8/100\n",
      "36/36 [==============================] - 1s 30ms/step - loss: 1.9240 - accuracy: 0.2613 - val_loss: 1.9523 - val_accuracy: 0.1597\n",
      "Epoch 9/100\n",
      "36/36 [==============================] - 1s 31ms/step - loss: 1.8646 - accuracy: 0.2839 - val_loss: 1.9395 - val_accuracy: 0.2708\n",
      "Epoch 10/100\n",
      "36/36 [==============================] - 1s 31ms/step - loss: 1.8628 - accuracy: 0.2682 - val_loss: 1.9159 - val_accuracy: 0.2639\n",
      "Epoch 11/100\n",
      "36/36 [==============================] - 1s 29ms/step - loss: 1.8793 - accuracy: 0.2630 - val_loss: 1.9348 - val_accuracy: 0.2014\n",
      "Epoch 12/100\n",
      "36/36 [==============================] - 1s 31ms/step - loss: 1.8443 - accuracy: 0.2943 - val_loss: 1.9696 - val_accuracy: 0.2292\n",
      "Epoch 13/100\n",
      "36/36 [==============================] - 1s 37ms/step - loss: 1.8297 - accuracy: 0.3030 - val_loss: 1.9580 - val_accuracy: 0.2431\n",
      "Epoch 14/100\n",
      "36/36 [==============================] - 1s 30ms/step - loss: 1.8318 - accuracy: 0.2977 - val_loss: 1.9683 - val_accuracy: 0.2014\n",
      "Epoch 15/100\n",
      "36/36 [==============================] - 1s 29ms/step - loss: 1.7967 - accuracy: 0.3290 - val_loss: 1.9595 - val_accuracy: 0.1736\n",
      "Epoch 16/100\n",
      "36/36 [==============================] - 1s 35ms/step - loss: 1.8061 - accuracy: 0.2995 - val_loss: 1.9226 - val_accuracy: 0.2361\n",
      "Epoch 17/100\n",
      "36/36 [==============================] - 1s 29ms/step - loss: 1.8036 - accuracy: 0.2995 - val_loss: 1.9484 - val_accuracy: 0.1875\n",
      "Epoch 18/100\n",
      "36/36 [==============================] - 1s 27ms/step - loss: 1.7874 - accuracy: 0.3160 - val_loss: 1.9449 - val_accuracy: 0.2500\n",
      "Epoch 19/100\n",
      "36/36 [==============================] - 1s 28ms/step - loss: 1.7865 - accuracy: 0.3038 - val_loss: 1.9246 - val_accuracy: 0.2014\n",
      "Epoch 20/100\n",
      "36/36 [==============================] - 1s 31ms/step - loss: 1.7519 - accuracy: 0.3090 - val_loss: 1.9140 - val_accuracy: 0.2292\n",
      "Epoch 21/100\n",
      "36/36 [==============================] - 1s 26ms/step - loss: 1.7442 - accuracy: 0.3368 - val_loss: 1.9249 - val_accuracy: 0.1806\n",
      "Epoch 22/100\n",
      "36/36 [==============================] - 1s 28ms/step - loss: 1.7408 - accuracy: 0.3307 - val_loss: 1.8846 - val_accuracy: 0.2569\n",
      "Epoch 23/100\n",
      "36/36 [==============================] - 1s 32ms/step - loss: 1.7267 - accuracy: 0.3394 - val_loss: 1.9753 - val_accuracy: 0.1875\n",
      "Epoch 24/100\n",
      "36/36 [==============================] - 1s 30ms/step - loss: 1.7373 - accuracy: 0.3255 - val_loss: 1.9599 - val_accuracy: 0.2222\n",
      "Epoch 25/100\n",
      "36/36 [==============================] - 1s 27ms/step - loss: 1.7061 - accuracy: 0.3281 - val_loss: 1.9465 - val_accuracy: 0.2014\n",
      "Epoch 26/100\n",
      "36/36 [==============================] - 1s 30ms/step - loss: 1.6960 - accuracy: 0.3542 - val_loss: 1.9256 - val_accuracy: 0.2083\n",
      "Epoch 27/100\n",
      "36/36 [==============================] - 1s 33ms/step - loss: 1.6739 - accuracy: 0.3637 - val_loss: 1.9803 - val_accuracy: 0.1806\n",
      "Epoch 28/100\n",
      "36/36 [==============================] - 1s 30ms/step - loss: 1.6920 - accuracy: 0.3507 - val_loss: 1.9428 - val_accuracy: 0.2014\n",
      "Epoch 29/100\n",
      "36/36 [==============================] - 1s 30ms/step - loss: 1.6834 - accuracy: 0.3559 - val_loss: 1.8973 - val_accuracy: 0.2222\n",
      "Epoch 30/100\n",
      "36/36 [==============================] - 1s 34ms/step - loss: 1.6292 - accuracy: 0.3576 - val_loss: 2.0231 - val_accuracy: 0.2083\n",
      "Epoch 31/100\n",
      "36/36 [==============================] - 1s 28ms/step - loss: 1.6357 - accuracy: 0.3733 - val_loss: 2.0786 - val_accuracy: 0.2639\n",
      "Epoch 32/100\n",
      "36/36 [==============================] - 1s 28ms/step - loss: 1.6382 - accuracy: 0.3741 - val_loss: 1.9656 - val_accuracy: 0.1736\n",
      "Epoch 33/100\n",
      "36/36 [==============================] - 1s 30ms/step - loss: 1.5885 - accuracy: 0.4149 - val_loss: 2.0291 - val_accuracy: 0.2292\n",
      "Epoch 34/100\n",
      "36/36 [==============================] - 1s 32ms/step - loss: 1.6182 - accuracy: 0.3689 - val_loss: 1.9330 - val_accuracy: 0.2014\n",
      "Epoch 35/100\n",
      "36/36 [==============================] - 1s 27ms/step - loss: 1.6160 - accuracy: 0.3655 - val_loss: 2.0055 - val_accuracy: 0.2014\n",
      "Epoch 36/100\n",
      "36/36 [==============================] - 1s 29ms/step - loss: 1.5575 - accuracy: 0.3915 - val_loss: 2.0048 - val_accuracy: 0.2153\n",
      "Epoch 37/100\n",
      "36/36 [==============================] - 1s 32ms/step - loss: 1.5336 - accuracy: 0.4141 - val_loss: 1.9395 - val_accuracy: 0.2361\n",
      "Epoch 38/100\n",
      "36/36 [==============================] - 1s 32ms/step - loss: 1.5753 - accuracy: 0.4045 - val_loss: 1.9819 - val_accuracy: 0.1597\n",
      "Epoch 39/100\n",
      "36/36 [==============================] - 1s 34ms/step - loss: 1.5015 - accuracy: 0.4054 - val_loss: 2.2704 - val_accuracy: 0.2500\n",
      "Epoch 40/100\n",
      "36/36 [==============================] - 1s 39ms/step - loss: 1.5279 - accuracy: 0.4219 - val_loss: 2.0580 - val_accuracy: 0.2014\n",
      "Epoch 41/100\n",
      "36/36 [==============================] - 1s 37ms/step - loss: 1.5039 - accuracy: 0.4236 - val_loss: 2.1912 - val_accuracy: 0.1944\n",
      "Epoch 42/100\n",
      "36/36 [==============================] - 1s 32ms/step - loss: 1.5131 - accuracy: 0.4089 - val_loss: 2.3171 - val_accuracy: 0.2292\n",
      "Epoch 43/100\n",
      "36/36 [==============================] - 1s 34ms/step - loss: 1.4906 - accuracy: 0.4262 - val_loss: 2.2924 - val_accuracy: 0.1806\n",
      "Epoch 44/100\n",
      "36/36 [==============================] - 1s 32ms/step - loss: 1.4874 - accuracy: 0.4089 - val_loss: 2.1846 - val_accuracy: 0.2361\n",
      "Epoch 45/100\n",
      "36/36 [==============================] - 1s 29ms/step - loss: 1.4804 - accuracy: 0.4297 - val_loss: 2.1576 - val_accuracy: 0.1944\n",
      "Epoch 46/100\n",
      "36/36 [==============================] - 1s 31ms/step - loss: 1.4571 - accuracy: 0.4340 - val_loss: 2.1901 - val_accuracy: 0.2014\n",
      "Epoch 47/100\n",
      "36/36 [==============================] - 1s 33ms/step - loss: 1.4365 - accuracy: 0.4340 - val_loss: 2.2972 - val_accuracy: 0.2014\n",
      "Epoch 48/100\n",
      "36/36 [==============================] - 1s 31ms/step - loss: 1.4432 - accuracy: 0.4523 - val_loss: 2.4477 - val_accuracy: 0.1944\n",
      "Epoch 49/100\n",
      "36/36 [==============================] - 1s 31ms/step - loss: 1.4052 - accuracy: 0.4540 - val_loss: 2.3428 - val_accuracy: 0.1875\n",
      "Epoch 50/100\n",
      "36/36 [==============================] - 1s 32ms/step - loss: 1.3685 - accuracy: 0.4722 - val_loss: 2.4412 - val_accuracy: 0.2083\n",
      "Epoch 51/100\n",
      "36/36 [==============================] - 1s 27ms/step - loss: 1.3692 - accuracy: 0.4740 - val_loss: 2.1969 - val_accuracy: 0.1597\n",
      "Epoch 52/100\n",
      "36/36 [==============================] - 1s 27ms/step - loss: 1.3827 - accuracy: 0.4774 - val_loss: 2.2679 - val_accuracy: 0.2222\n",
      "Epoch 53/100\n",
      "36/36 [==============================] - 1s 31ms/step - loss: 1.3862 - accuracy: 0.4679 - val_loss: 2.3467 - val_accuracy: 0.2292\n",
      "Epoch 54/100\n",
      "36/36 [==============================] - 1s 36ms/step - loss: 1.3910 - accuracy: 0.4740 - val_loss: 2.2754 - val_accuracy: 0.2222\n",
      "Epoch 55/100\n",
      "36/36 [==============================] - 1s 30ms/step - loss: 1.3173 - accuracy: 0.4835 - val_loss: 2.7052 - val_accuracy: 0.2153\n",
      "Epoch 56/100\n",
      "36/36 [==============================] - 1s 28ms/step - loss: 1.2880 - accuracy: 0.5191 - val_loss: 2.3106 - val_accuracy: 0.2222\n",
      "Epoch 57/100\n",
      "36/36 [==============================] - 1s 32ms/step - loss: 1.3256 - accuracy: 0.4887 - val_loss: 2.4317 - val_accuracy: 0.2500\n",
      "Epoch 58/100\n",
      "36/36 [==============================] - 1s 30ms/step - loss: 1.2668 - accuracy: 0.5069 - val_loss: 2.5562 - val_accuracy: 0.2153\n",
      "Epoch 59/100\n",
      "36/36 [==============================] - 1s 28ms/step - loss: 1.2515 - accuracy: 0.5226 - val_loss: 2.5487 - val_accuracy: 0.2153\n",
      "Epoch 60/100\n",
      "36/36 [==============================] - 1s 34ms/step - loss: 1.2240 - accuracy: 0.5295 - val_loss: 2.6165 - val_accuracy: 0.2292\n",
      "Epoch 61/100\n",
      "36/36 [==============================] - 1s 31ms/step - loss: 1.2491 - accuracy: 0.5278 - val_loss: 2.4482 - val_accuracy: 0.1944\n",
      "Epoch 62/100\n",
      "36/36 [==============================] - 1s 26ms/step - loss: 1.2117 - accuracy: 0.5243 - val_loss: 2.9345 - val_accuracy: 0.1944\n",
      "Epoch 63/100\n",
      "36/36 [==============================] - 1s 27ms/step - loss: 1.2003 - accuracy: 0.5460 - val_loss: 2.5949 - val_accuracy: 0.2083\n",
      "Epoch 64/100\n",
      "36/36 [==============================] - 1s 33ms/step - loss: 1.1842 - accuracy: 0.5503 - val_loss: 2.4450 - val_accuracy: 0.2222\n",
      "Epoch 65/100\n",
      "36/36 [==============================] - 1s 27ms/step - loss: 1.2015 - accuracy: 0.5503 - val_loss: 2.5999 - val_accuracy: 0.2014\n",
      "Epoch 66/100\n",
      "36/36 [==============================] - 1s 27ms/step - loss: 1.1075 - accuracy: 0.5781 - val_loss: 2.6173 - val_accuracy: 0.2083\n",
      "Epoch 67/100\n",
      "36/36 [==============================] - 1s 31ms/step - loss: 1.1179 - accuracy: 0.5859 - val_loss: 2.5466 - val_accuracy: 0.2361\n",
      "Epoch 68/100\n",
      "36/36 [==============================] - 1s 33ms/step - loss: 1.1031 - accuracy: 0.5807 - val_loss: 2.7977 - val_accuracy: 0.1944\n",
      "Epoch 69/100\n",
      "36/36 [==============================] - 1s 29ms/step - loss: 1.0774 - accuracy: 0.5877 - val_loss: 2.6613 - val_accuracy: 0.2431\n",
      "Epoch 70/100\n",
      "36/36 [==============================] - 1s 30ms/step - loss: 1.0853 - accuracy: 0.5868 - val_loss: 2.7268 - val_accuracy: 0.2222\n",
      "Epoch 71/100\n",
      "36/36 [==============================] - 1s 33ms/step - loss: 1.0491 - accuracy: 0.6024 - val_loss: 2.9775 - val_accuracy: 0.1736\n",
      "Epoch 72/100\n",
      "36/36 [==============================] - 1s 30ms/step - loss: 0.9890 - accuracy: 0.6128 - val_loss: 3.2880 - val_accuracy: 0.2847\n",
      "Epoch 73/100\n",
      "36/36 [==============================] - 1s 29ms/step - loss: 1.0800 - accuracy: 0.5955 - val_loss: 2.9139 - val_accuracy: 0.1944\n",
      "Epoch 74/100\n",
      "36/36 [==============================] - 1s 31ms/step - loss: 1.0488 - accuracy: 0.6059 - val_loss: 2.7541 - val_accuracy: 0.1944\n",
      "Epoch 75/100\n",
      "36/36 [==============================] - 1s 33ms/step - loss: 0.9747 - accuracy: 0.6163 - val_loss: 3.0963 - val_accuracy: 0.2222\n",
      "Epoch 76/100\n",
      "36/36 [==============================] - 1s 28ms/step - loss: 0.9808 - accuracy: 0.6181 - val_loss: 2.9007 - val_accuracy: 0.1875\n",
      "Epoch 77/100\n",
      "36/36 [==============================] - 1s 27ms/step - loss: 1.0182 - accuracy: 0.6198 - val_loss: 2.9118 - val_accuracy: 0.2361\n",
      "Epoch 78/100\n",
      "36/36 [==============================] - 1s 31ms/step - loss: 0.9874 - accuracy: 0.6406 - val_loss: 3.2571 - val_accuracy: 0.2014\n",
      "Epoch 79/100\n",
      "36/36 [==============================] - 1s 31ms/step - loss: 0.9508 - accuracy: 0.6424 - val_loss: 3.3364 - val_accuracy: 0.2361\n",
      "Epoch 80/100\n",
      "36/36 [==============================] - 1s 27ms/step - loss: 0.9869 - accuracy: 0.6476 - val_loss: 3.5030 - val_accuracy: 0.2222\n",
      "Epoch 81/100\n",
      "36/36 [==============================] - 1s 29ms/step - loss: 1.0811 - accuracy: 0.6085 - val_loss: 3.1664 - val_accuracy: 0.2917\n",
      "Epoch 82/100\n",
      "36/36 [==============================] - 1s 31ms/step - loss: 0.9636 - accuracy: 0.6406 - val_loss: 2.9800 - val_accuracy: 0.2361\n",
      "Epoch 83/100\n",
      "36/36 [==============================] - 1s 30ms/step - loss: 0.8784 - accuracy: 0.6840 - val_loss: 3.4376 - val_accuracy: 0.2639\n",
      "Epoch 84/100\n",
      "36/36 [==============================] - 1s 28ms/step - loss: 0.8587 - accuracy: 0.6814 - val_loss: 3.4643 - val_accuracy: 0.2500\n",
      "Epoch 85/100\n",
      "36/36 [==============================] - 1s 33ms/step - loss: 0.8718 - accuracy: 0.6823 - val_loss: 3.2414 - val_accuracy: 0.2153\n",
      "Epoch 86/100\n",
      "36/36 [==============================] - 1s 31ms/step - loss: 0.8782 - accuracy: 0.6745 - val_loss: 3.2362 - val_accuracy: 0.2083\n",
      "Epoch 87/100\n",
      "36/36 [==============================] - 1s 29ms/step - loss: 0.8437 - accuracy: 0.6797 - val_loss: 3.4806 - val_accuracy: 0.2153\n",
      "Epoch 88/100\n",
      "36/36 [==============================] - 1s 30ms/step - loss: 0.7994 - accuracy: 0.6875 - val_loss: 3.5924 - val_accuracy: 0.1736\n",
      "Epoch 89/100\n",
      "36/36 [==============================] - 1s 32ms/step - loss: 0.8062 - accuracy: 0.7083 - val_loss: 3.7608 - val_accuracy: 0.2500\n",
      "Epoch 90/100\n",
      "36/36 [==============================] - 1s 30ms/step - loss: 0.9261 - accuracy: 0.6510 - val_loss: 3.3065 - val_accuracy: 0.1736\n",
      "Epoch 91/100\n",
      "36/36 [==============================] - 1s 27ms/step - loss: 0.7919 - accuracy: 0.6962 - val_loss: 3.4952 - val_accuracy: 0.2639\n",
      "Epoch 92/100\n",
      "36/36 [==============================] - 1s 31ms/step - loss: 0.7233 - accuracy: 0.7352 - val_loss: 3.8566 - val_accuracy: 0.2222\n",
      "Epoch 93/100\n",
      "36/36 [==============================] - 1s 32ms/step - loss: 0.6879 - accuracy: 0.7526 - val_loss: 4.0081 - val_accuracy: 0.2153\n",
      "Epoch 94/100\n",
      "36/36 [==============================] - 1s 28ms/step - loss: 0.7590 - accuracy: 0.7431 - val_loss: 4.5811 - val_accuracy: 0.2431\n",
      "Epoch 95/100\n",
      "36/36 [==============================] - 1s 33ms/step - loss: 0.8100 - accuracy: 0.7083 - val_loss: 3.7361 - val_accuracy: 0.1944\n",
      "Epoch 96/100\n",
      "36/36 [==============================] - 1s 35ms/step - loss: 0.8210 - accuracy: 0.6970 - val_loss: 3.6022 - val_accuracy: 0.2361\n",
      "Epoch 97/100\n",
      "36/36 [==============================] - 1s 35ms/step - loss: 0.6984 - accuracy: 0.7422 - val_loss: 4.2490 - val_accuracy: 0.2778\n",
      "Epoch 98/100\n",
      "36/36 [==============================] - 1s 32ms/step - loss: 0.6348 - accuracy: 0.7648 - val_loss: 4.1535 - val_accuracy: 0.2569\n",
      "Epoch 99/100\n",
      "36/36 [==============================] - 1s 35ms/step - loss: 0.6323 - accuracy: 0.7717 - val_loss: 4.5834 - val_accuracy: 0.2083\n",
      "Epoch 100/100\n",
      "36/36 [==============================] - 1s 30ms/step - loss: 0.6763 - accuracy: 0.7578 - val_loss: 4.6528 - val_accuracy: 0.2500\n"
     ]
    }
   ],
   "source": [
    "### train using LSTM model\n",
    "lstm = model_LSTM()\n",
    "report = lstm.fit(np.expand_dims(rs_data_array[:train_samples],-1), labels_category[:train_samples], validation_data=(np.expand_dims(rs_data_array[train_samples:train_samples+val_samples],-1), labels_category[train_samples:train_samples+val_samples]), epochs = 100, shuffle=True)                "
   ]
  },
  {
   "cell_type": "code",
   "execution_count": 22,
   "id": "334badc3-8e61-4933-8481-aac5699046ee",
   "metadata": {},
   "outputs": [
    {
     "data": {
      "image/png": "[encoded data removed]",
      "text/plain": [
       "<Figure size 432x288 with 1 Axes>"
      ]
     },
     "metadata": {
      "needs_background": "light"
     },
     "output_type": "display_data"
    }
   ],
   "source": [
    "### loss plots using LSTM model\n",
    "loss = report.history['loss']\n",
    "val_loss = report.history['val_loss']\n",
    "\n",
    "epochs = range(1, len(loss) + 1)\n",
    "\n",
    "plt.plot(epochs, loss, 'ro', label='Training loss')\n",
    "plt.plot(epochs, val_loss, 'b', label='Validation loss')\n",
    "plt.title('Training and validation loss')\n",
    "plt.xlabel('Epochs')\n",
    "plt.ylabel('Loss')\n",
    "plt.legend()\n",
    "\n",
    "plt.show()"
   ]
  },
  {
   "cell_type": "code",
   "execution_count": 23,
   "id": "41904247-0a43-46fb-857a-41c11cffdbe2",
   "metadata": {},
   "outputs": [
    {
     "data": {
      "image/png": "[encoded data removed]",
      "text/plain": [
       "<Figure size 432x288 with 1 Axes>"
      ]
     },
     "metadata": {
      "needs_background": "light"
     },
     "output_type": "display_data"
    }
   ],
   "source": [
    "### accuracy plots using LSTM model\n",
    "plt.clf()                                                \n",
    "\n",
    "acc = report.history['accuracy']\n",
    "val_acc = report.history['val_accuracy']\n",
    "\n",
    "plt.plot(epochs, acc, 'ro', label='Training acc')\n",
    "plt.plot(epochs, val_acc, 'b', label='Validation acc')\n",
    "plt.title('Training and validation accuracy')\n",
    "plt.xlabel('Epochs')\n",
    "plt.ylabel('Loss')\n",
    "plt.legend()\n",
    "\n",
    "plt.show()"
   ]
  },
  {
   "cell_type": "code",
   "execution_count": 33,
   "id": "a4b277da-5398-45e7-8f0b-1206db5aaca6",
   "metadata": {},
   "outputs": [
    {
     "name": "stdout",
     "output_type": "stream",
     "text": [
      "5/5 [==============================] - 0s 11ms/step - loss: 3.7540 - accuracy: 0.3056\n"
     ]
    },
    {
     "data": {
      "text/plain": [
       "[3.7540388107299805, 0.3055555522441864]"
      ]
     },
     "execution_count": 33,
     "metadata": {},
     "output_type": "execute_result"
    }
   ],
   "source": [
    "\n",
    "lstm.evaluate(np.expand_dims(rs_data_array[train_samples + val_samples:], -1), labels_category[train_samples + val_samples:])"
   ]
  },
  {
   "cell_type": "code",
   "execution_count": 34,
   "id": "fbd376ab-f00d-42a7-810e-7646dd19a716",
   "metadata": {},
   "outputs": [],
   "source": [
    "emotions={1 : 'neutral', 2 : 'calm', 3 : 'happy', 4 : 'sad', 5 : 'angry', 6 : 'fearful', 7 : 'disgust', 8 : 'surprised'}\n",
    "def prediction(filepath):\n",
    "    test_point=extracting_MFCC(filepath)\n",
    "    test_point=np.reshape(test_point,newshape=(1,40,1))\n",
    "    predictions=lstm.predict(test_point)\n",
    "    print(emotions[np.argmax(predictions[0])+1])"
   ]
  },
  {
   "cell_type": "code",
   "execution_count": 35,
   "id": "ba5f5596-9cd1-4e46-9e95-c47be3f87b8a",
   "metadata": {},
   "outputs": [
    {
     "name": "stdout",
     "output_type": "stream",
     "text": [
      "1/1 [==============================] - 0s 25ms/step\n",
      "sad\n"
     ]
    }
   ],
   "source": [
    "prediction('C:/Users/DELL/Documents/Project/Actor_02/03-01-01-01-01-01-02.wav')"
   ]
  },
  {
   "cell_type": "code",
   "execution_count": 36,
   "id": "4231b884-0f9a-4cab-af1b-0a6694cfb5cc",
   "metadata": {},
   "outputs": [
    {
     "name": "stdout",
     "output_type": "stream",
     "text": [
      "1/1 [==============================] - 0s 31ms/step\n",
      "surprised\n"
     ]
    }
   ],
   "source": [
    "prediction('C:/Users/DELL/Documents/Project/Actor_01/03-01-08-01-01-02-01.wav')"
   ]
  }
 ],
 "metadata": {
  "kernelspec": {
   "display_name": "Python 3 (ipykernel)",
   "language": "python",
   "name": "python3"
  },
  "language_info": {
   "codemirror_mode": {
    "name": "ipython",
    "version": 3
   },
   "file_extension": ".py",
   "mimetype": "text/x-python",
   "name": "python",
   "nbconvert_exporter": "python",
   "pygments_lexer": "ipython3",
   "version": "3.9.12"
  }
 },
 "nbformat": 4,
 "nbformat_minor": 5
}
